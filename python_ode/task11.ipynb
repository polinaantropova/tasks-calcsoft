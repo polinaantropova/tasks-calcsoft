import numpy as np
from scipy.integrate import solve_ivp

import matplotlib.pyplot as plt
from mpl_toolkits.mplot3d import Axes3D

def system_de(t, state, sigma, beta, rho):
    x, y, z = state
     
    dx = sigma * (y - x)
    dy = x * (rho - z) - y
    dz = x * y - beta * z
     
    return [dx, dy, dz]

rho = 28.0
sigma = 10.0
beta = 8.0 / 3.0
 
parameters = (sigma, beta, rho)
 
y0 = [0.0, 1.0, 20.0]
t_span = (0.0, 40.0)

ans_solve_ivp = solve_ivp(system_de, t_span, y0, args=parameters, t_eval=np.linspace(0,40,2000))
ans_solve_ivp

fig = plt.figure()
ax = fig.add_subplot(111, projection='3d')
ax.plot(ans_solve_ivp.y[0, :],
        ans_solve_ivp.y[1, :],
        ans_solve_ivp.y[2, :])
ax.set_title("solve_ivp")
